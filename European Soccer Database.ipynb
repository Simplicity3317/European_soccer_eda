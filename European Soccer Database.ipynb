{
 "cells": [
  {
   "cell_type": "markdown",
   "metadata": {},
   "source": [
    "\n",
    "# Project: European Soccer Database\n",
    "\n",
    "## Table of Contents\n",
    "<ul>\n",
    "<li><a href=\"#intro\">Introduction</a></li>\n",
    "<li><a href=\"#wrangling\">Data Wrangling</a></li>\n",
    "<li><a href=\"#eda\">Exploratory Data Analysis</a></li>\n",
    "<li><a href=\"#conclusions\">Conclusions</a></li>\n",
    "</ul>"
   ]
  },
  {
   "cell_type": "markdown",
   "metadata": {},
   "source": [
    "<a id='intro'></a>\n",
    "## Introduction\n",
    "\n",
    "### Dataset Description \n",
    "\n",
    "> The Soccer dataset consist of 7 different tables which are:\n",
    "> <b><ol>1.Country</ol></b>\n",
    "  <b><ol>2.League </ol></b>\n",
    "<b><ol>3. Match </ol></b>\n",
    "<b><ol>4. Player </ol></b>\n",
    "<b><ol>5. Player attributes </ol></b>\n",
    "<b><ol>6. Team </ol></b>\n",
    "<b><ol>7. Team Attributes </ol></b>\n",
    "\n",
    ">1. In the Country table, we have the Country ID and the Country Name. </br>\n",
    ">2. In the League table, we have columns like Country_id and League_Name. </br>\n",
    ">3. In the Match Table, we have several details of each Match played, the ones we'll be making use of in this Analysis are Season, Home_team_goal, Away_team_goal. \n",
    ">4. In the Player Table also consist of different columns,but the one's relevant for the purpose of this project are Player_api_id, height and weight. \n",
    ">5. We also have the Player Attributes tables, which cotains information about the attributes of the Players but for this project we'll be extracting the Player Attributes Column and The Player Potential Column. </br>\n",
    ">6. The team table also consist of several columns and the one's we'll be extracting for this project work are Team_api_id, Team_Long_Name. \n",
    ">7. The team attributes tables also contains several details about the Team, but for this project, we're not extracting any details from the table.\n",
    "\n",
    "\n",
    "### Question(s) for Analysis\n",
    ">**1. Which Season was the highest number of goals scored, in which league?** \n",
    "\n",
    ">**2. Number of Recorded matches Per League** \n",
    "\n",
    ">**3. Who are the top 10 most rated Players?** \n",
    "\n",
    ">**4. Is there an Association between Player ratings and their Potentials?**\n",
    "\n",
    ">**5. Is there an Association between Player weight and height?**"
   ]
  },
  {
   "cell_type": "code",
   "execution_count": 1,
   "metadata": {},
   "outputs": [],
   "source": [
    "#import pandas\n",
    "import pandas as pd\n",
    "#import numpy\n",
    "import numpy as np\n",
    "#import matplotlib\n",
    "import matplotlib as mpl\n",
    "#import matplotlib.pyplot\n",
    "import matplotlib.pyplot as plt\n",
    "#Using matplotlib inline\n",
    "%matplotlib inline\n",
    "#import seaborn\n",
    "import seaborn as sns\n",
    "#Using ggplot style for graph\n",
    "mpl.style.use(['ggplot'])\n",
    "#import sqlite3\n",
    "import sqlite3\n",
    "#import stats\n",
    "from scipy import stats"
   ]
  },
  {
   "cell_type": "markdown",
   "metadata": {},
   "source": [
    "<a id='wrangling'></a>\n",
    "## Data Wrangling"
   ]
  },
  {
   "cell_type": "markdown",
   "metadata": {
    "collapsed": true
   },
   "source": [
    "In this process, since we're having multiple tables for our data, we'll be using <b>sqlite</b> and <b> sql magic </b> to combine our data into two datasets, the first dataset will contain the <b>match details</b> in all seasons and Team details that'll be needing for this analysis, while the second dataset will contain the player details."
   ]
  },
  {
   "cell_type": "code",
   "execution_count": 2,
   "metadata": {},
   "outputs": [],
   "source": [
    "#Connecting to database with sqlite3\n",
    "database = sqlite3.connect('database.sqlite')"
   ]
  },
  {
   "cell_type": "code",
   "execution_count": 3,
   "metadata": {},
   "outputs": [],
   "source": [
    "#Connecting to database with SQL Magic\n",
    "%load_ext sql\n",
    "%sql sqlite:///database.sqlite"
   ]
  },
  {
   "cell_type": "markdown",
   "metadata": {},
   "source": [
    "Here, We'll be creating <b>VIEWS</b> with <b>SQL MAGIC</b> to combine our data so we can have <b>match_data</b> dataset.\n",
    "The column that'll be contained in the datasets are:\n",
    "<code>Country_name,League_name,Season,Match_date,Home_team_name, Away_team_name,home_team_goal,away_team_goal,match_id,Total_goals</code>"
   ]
  },
  {
   "cell_type": "code",
   "execution_count": 4,
   "metadata": {},
   "outputs": [
    {
     "name": "stdout",
     "output_type": "stream",
     "text": [
      " * sqlite:///database.sqlite\n",
      "Done.\n"
     ]
    },
    {
     "data": {
      "text/plain": [
       "[]"
      ]
     },
     "execution_count": 4,
     "metadata": {},
     "output_type": "execute_result"
    }
   ],
   "source": [
    "%%sql\n",
    "create view soccer_data\n",
    "as\n",
    "select C.name as Country_name,\n",
    "L.name as League_name,\n",
    "M.season as Season,\n",
    "M.date as Match_date,\n",
    "home_team.team_long_name as Home_team_name, \n",
    "away_team.team_long_name as Away_team_name,\n",
    "M.Home_team_goal as home_team_goal,\n",
    "M.away_team_goal as away_team_goal,\n",
    "M.match_api_id as match_id\n",
    "from Match M \n",
    "INNER JOIN \n",
    "Country as C ON\n",
    "M.country_id = C.id\n",
    "Inner join\n",
    "League as L ON\n",
    "M.league_id = L.id\n",
    "left join\n",
    "Team as home_team \n",
    "on\n",
    "home_team.team_api_id = M.home_team_api_id\n",
    "left join\n",
    "Team as away_team\n",
    "on\n",
    "away_team.team_api_id = M.away_team_api_id;"
   ]
  },
  {
   "cell_type": "markdown",
   "metadata": {},
   "source": [
    "**Printing the first 5 rows**"
   ]
  },
  {
   "cell_type": "code",
   "execution_count": 5,
   "metadata": {},
   "outputs": [
    {
     "name": "stdout",
     "output_type": "stream",
     "text": [
      " * sqlite:///database.sqlite\n",
      "Done.\n"
     ]
    },
    {
     "data": {
      "text/html": [
       "<table>\n",
       "    <tr>\n",
       "        <th>Country_name</th>\n",
       "        <th>League_name</th>\n",
       "        <th>Season</th>\n",
       "        <th>Match_date</th>\n",
       "        <th>Home_team_name</th>\n",
       "        <th>Away_team_name</th>\n",
       "        <th>home_team_goal</th>\n",
       "        <th>away_team_goal</th>\n",
       "        <th>match_id</th>\n",
       "    </tr>\n",
       "    <tr>\n",
       "        <td>Belgium</td>\n",
       "        <td>Belgium Jupiler League</td>\n",
       "        <td>2008/2009</td>\n",
       "        <td>2008-08-17 00:00:00</td>\n",
       "        <td>KRC Genk</td>\n",
       "        <td>Beerschot AC</td>\n",
       "        <td>1</td>\n",
       "        <td>1</td>\n",
       "        <td>492473</td>\n",
       "    </tr>\n",
       "    <tr>\n",
       "        <td>Belgium</td>\n",
       "        <td>Belgium Jupiler League</td>\n",
       "        <td>2008/2009</td>\n",
       "        <td>2008-08-16 00:00:00</td>\n",
       "        <td>SV Zulte-Waregem</td>\n",
       "        <td>Sporting Lokeren</td>\n",
       "        <td>0</td>\n",
       "        <td>0</td>\n",
       "        <td>492474</td>\n",
       "    </tr>\n",
       "    <tr>\n",
       "        <td>Belgium</td>\n",
       "        <td>Belgium Jupiler League</td>\n",
       "        <td>2008/2009</td>\n",
       "        <td>2008-08-16 00:00:00</td>\n",
       "        <td>KSV Cercle Brugge</td>\n",
       "        <td>RSC Anderlecht</td>\n",
       "        <td>0</td>\n",
       "        <td>3</td>\n",
       "        <td>492475</td>\n",
       "    </tr>\n",
       "    <tr>\n",
       "        <td>Belgium</td>\n",
       "        <td>Belgium Jupiler League</td>\n",
       "        <td>2008/2009</td>\n",
       "        <td>2008-08-17 00:00:00</td>\n",
       "        <td>KAA Gent</td>\n",
       "        <td>RAEC Mons</td>\n",
       "        <td>5</td>\n",
       "        <td>0</td>\n",
       "        <td>492476</td>\n",
       "    </tr>\n",
       "    <tr>\n",
       "        <td>Belgium</td>\n",
       "        <td>Belgium Jupiler League</td>\n",
       "        <td>2008/2009</td>\n",
       "        <td>2008-08-16 00:00:00</td>\n",
       "        <td>FCV Dender EH</td>\n",
       "        <td>Standard de Liège</td>\n",
       "        <td>1</td>\n",
       "        <td>3</td>\n",
       "        <td>492477</td>\n",
       "    </tr>\n",
       "</table>"
      ],
      "text/plain": [
       "[('Belgium', 'Belgium Jupiler League', '2008/2009', '2008-08-17 00:00:00', 'KRC Genk', 'Beerschot AC', 1, 1, 492473),\n",
       " ('Belgium', 'Belgium Jupiler League', '2008/2009', '2008-08-16 00:00:00', 'SV Zulte-Waregem', 'Sporting Lokeren', 0, 0, 492474),\n",
       " ('Belgium', 'Belgium Jupiler League', '2008/2009', '2008-08-16 00:00:00', 'KSV Cercle Brugge', 'RSC Anderlecht', 0, 3, 492475),\n",
       " ('Belgium', 'Belgium Jupiler League', '2008/2009', '2008-08-17 00:00:00', 'KAA Gent', 'RAEC Mons', 5, 0, 492476),\n",
       " ('Belgium', 'Belgium Jupiler League', '2008/2009', '2008-08-16 00:00:00', 'FCV Dender EH', 'Standard de Liège', 1, 3, 492477)]"
      ]
     },
     "execution_count": 5,
     "metadata": {},
     "output_type": "execute_result"
    }
   ],
   "source": [
    "%%sql \n",
    "select * from soccer_data limit 5;"
   ]
  },
  {
   "cell_type": "markdown",
   "metadata": {},
   "source": [
    "Reading the View <code> soccer_data</code> into a DataFrame for further Inspection."
   ]
  },
  {
   "cell_type": "code",
   "execution_count": 6,
   "metadata": {},
   "outputs": [],
   "source": [
    "match_data = pd.read_sql_query(\"select * from soccer_data\",database)"
   ]
  },
  {
   "cell_type": "code",
   "execution_count": 7,
   "metadata": {},
   "outputs": [
    {
     "data": {
      "text/plain": [
       "(25979, 9)"
      ]
     },
     "execution_count": 7,
     "metadata": {},
     "output_type": "execute_result"
    }
   ],
   "source": [
    "#Checking the size of our match_data\n",
    "match_data.shape"
   ]
  },
  {
   "cell_type": "markdown",
   "metadata": {},
   "source": [
    "From the result above, it shows that the dataset consist 25979 rows and 9 columns."
   ]
  },
  {
   "cell_type": "markdown",
   "metadata": {},
   "source": [
    "Now, we'll be creating generating our <code>player_data</code> also as this will be useful in order to answer some of our research question.\n",
    "We'll  be Using <code>SQL MAGIC </code> as well to generate our data, and we'll be having columns:\n",
    "<code>Player_api_id, Player_name, Player_average_weight,Player_average_height, Player_average_overall_rating, Player_average_potentials</code>"
   ]
  },
  {
   "cell_type": "code",
   "execution_count": 8,
   "metadata": {},
   "outputs": [
    {
     "name": "stdout",
     "output_type": "stream",
     "text": [
      " * sqlite:///database.sqlite\n",
      "Done.\n"
     ]
    },
    {
     "data": {
      "text/plain": [
       "[]"
      ]
     },
     "execution_count": 8,
     "metadata": {},
     "output_type": "execute_result"
    }
   ],
   "source": [
    "%%sql\n",
    "create view player_data\n",
    "as\n",
    "select PA.player_api_id as Player_api_id,\n",
    "P.player_name as Player_name,\n",
    "P.weight as Player_average_weight,\n",
    "P.height as Player_average_height,\n",
    "round(avg(PA.overall_rating),2) as Player_average_overall_rating,\n",
    "round(avg(PA.potential),2) as Player_average_potentials\n",
    "from Player_attributes PA\n",
    "left Join\n",
    "Player P ON\n",
    "PA.player_api_id = P.player_api_id\n",
    "group by PA.player_api_id;"
   ]
  },
  {
   "cell_type": "markdown",
   "metadata": {},
   "source": [
    "Reading view <code>player_data</code> into a dataframe for further Inspection."
   ]
  },
  {
   "cell_type": "code",
   "execution_count": 9,
   "metadata": {},
   "outputs": [],
   "source": [
    "player_data = pd.read_sql_query(\"select * from player_data\",database)"
   ]
  },
  {
   "cell_type": "code",
   "execution_count": 10,
   "metadata": {},
   "outputs": [
    {
     "data": {
      "text/plain": [
       "(11060, 6)"
      ]
     },
     "execution_count": 10,
     "metadata": {},
     "output_type": "execute_result"
    }
   ],
   "source": [
    "#Checking the size of our player_data\n",
    "player_data.shape"
   ]
  },
  {
   "cell_type": "markdown",
   "metadata": {},
   "source": [
    "From the result above the dataset <code>player_data</code> consist of 11060 rows and 6 columns"
   ]
  },
  {
   "cell_type": "code",
   "execution_count": 11,
   "metadata": {},
   "outputs": [
    {
     "data": {
      "text/html": [
       "<div>\n",
       "<style scoped>\n",
       "    .dataframe tbody tr th:only-of-type {\n",
       "        vertical-align: middle;\n",
       "    }\n",
       "\n",
       "    .dataframe tbody tr th {\n",
       "        vertical-align: top;\n",
       "    }\n",
       "\n",
       "    .dataframe thead th {\n",
       "        text-align: right;\n",
       "    }\n",
       "</style>\n",
       "<table border=\"1\" class=\"dataframe\">\n",
       "  <thead>\n",
       "    <tr style=\"text-align: right;\">\n",
       "      <th></th>\n",
       "      <th>Player_api_id</th>\n",
       "      <th>Player_name</th>\n",
       "      <th>Player_average_weight</th>\n",
       "      <th>Player_average_height</th>\n",
       "      <th>Player_average_overall_rating</th>\n",
       "      <th>Player_average_potentials</th>\n",
       "    </tr>\n",
       "  </thead>\n",
       "  <tbody>\n",
       "    <tr>\n",
       "      <th>0</th>\n",
       "      <td>2625</td>\n",
       "      <td>Patryk Rachwal,18</td>\n",
       "      <td>154</td>\n",
       "      <td>175.26</td>\n",
       "      <td>60.14</td>\n",
       "      <td>61.14</td>\n",
       "    </tr>\n",
       "    <tr>\n",
       "      <th>1</th>\n",
       "      <td>2752</td>\n",
       "      <td>Diego Mainz</td>\n",
       "      <td>174</td>\n",
       "      <td>187.96</td>\n",
       "      <td>69.38</td>\n",
       "      <td>70.38</td>\n",
       "    </tr>\n",
       "    <tr>\n",
       "      <th>2</th>\n",
       "      <td>2768</td>\n",
       "      <td>Jose Dorado</td>\n",
       "      <td>154</td>\n",
       "      <td>180.34</td>\n",
       "      <td>69.29</td>\n",
       "      <td>70.57</td>\n",
       "    </tr>\n",
       "    <tr>\n",
       "      <th>3</th>\n",
       "      <td>2770</td>\n",
       "      <td>Ignacio Gonzalez</td>\n",
       "      <td>161</td>\n",
       "      <td>180.34</td>\n",
       "      <td>71.13</td>\n",
       "      <td>73.53</td>\n",
       "    </tr>\n",
       "    <tr>\n",
       "      <th>4</th>\n",
       "      <td>2790</td>\n",
       "      <td>Alberto Rey</td>\n",
       "      <td>163</td>\n",
       "      <td>175.26</td>\n",
       "      <td>70.20</td>\n",
       "      <td>75.80</td>\n",
       "    </tr>\n",
       "  </tbody>\n",
       "</table>\n",
       "</div>"
      ],
      "text/plain": [
       "   Player_api_id        Player_name  Player_average_weight  \\\n",
       "0           2625  Patryk Rachwal,18                    154   \n",
       "1           2752        Diego Mainz                    174   \n",
       "2           2768        Jose Dorado                    154   \n",
       "3           2770   Ignacio Gonzalez                    161   \n",
       "4           2790        Alberto Rey                    163   \n",
       "\n",
       "   Player_average_height  Player_average_overall_rating  \\\n",
       "0                 175.26                          60.14   \n",
       "1                 187.96                          69.38   \n",
       "2                 180.34                          69.29   \n",
       "3                 180.34                          71.13   \n",
       "4                 175.26                          70.20   \n",
       "\n",
       "   Player_average_potentials  \n",
       "0                      61.14  \n",
       "1                      70.38  \n",
       "2                      70.57  \n",
       "3                      73.53  \n",
       "4                      75.80  "
      ]
     },
     "execution_count": 11,
     "metadata": {},
     "output_type": "execute_result"
    }
   ],
   "source": [
    "#Printing the first 5 rows of the dataset\n",
    "player_data.head(5)"
   ]
  },
  {
   "cell_type": "markdown",
   "metadata": {},
   "source": [
    "\n",
    "### Data Cleaning"
   ]
  },
  {
   "cell_type": "markdown",
   "metadata": {},
   "source": [
    "From the dataset <code>match_data</code> we noticed that we do not have a column where we'll have the total goal in a match, we only have <code>home_team_goal</code> and <code>away_team_goal</code>.\n",
    "So let's create another Column and Name it <code>Total_goals</code> as this will be useful for us."
   ]
  },
  {
   "cell_type": "markdown",
   "metadata": {},
   "source": [
    "We'll be doing that in a few steps:\n",
    "> **Step 1:** Using a for loop to add the columns **home_team_goal** and **away_team_goal**"
   ]
  },
  {
   "cell_type": "code",
   "execution_count": 12,
   "metadata": {},
   "outputs": [],
   "source": [
    "Total_goals = [home_goal + away_goal for (home_goal,away_goal) in zip(match_data.home_team_goal,match_data.away_team_goal)]"
   ]
  },
  {
   "cell_type": "markdown",
   "metadata": {},
   "source": [
    "> **Step 2:** Creating a column in the dataset <code>match_data</code> and naming the column <code>Total_goals</code>"
   ]
  },
  {
   "cell_type": "code",
   "execution_count": 13,
   "metadata": {},
   "outputs": [],
   "source": [
    "match_data['Total_goals'] = Total_goals"
   ]
  },
  {
   "cell_type": "code",
   "execution_count": 14,
   "metadata": {},
   "outputs": [
    {
     "data": {
      "text/html": [
       "<div>\n",
       "<style scoped>\n",
       "    .dataframe tbody tr th:only-of-type {\n",
       "        vertical-align: middle;\n",
       "    }\n",
       "\n",
       "    .dataframe tbody tr th {\n",
       "        vertical-align: top;\n",
       "    }\n",
       "\n",
       "    .dataframe thead th {\n",
       "        text-align: right;\n",
       "    }\n",
       "</style>\n",
       "<table border=\"1\" class=\"dataframe\">\n",
       "  <thead>\n",
       "    <tr style=\"text-align: right;\">\n",
       "      <th></th>\n",
       "      <th>Country_name</th>\n",
       "      <th>League_name</th>\n",
       "      <th>Season</th>\n",
       "      <th>Match_date</th>\n",
       "      <th>Home_team_name</th>\n",
       "      <th>Away_team_name</th>\n",
       "      <th>home_team_goal</th>\n",
       "      <th>away_team_goal</th>\n",
       "      <th>match_id</th>\n",
       "      <th>Total_goals</th>\n",
       "    </tr>\n",
       "  </thead>\n",
       "  <tbody>\n",
       "    <tr>\n",
       "      <th>0</th>\n",
       "      <td>Belgium</td>\n",
       "      <td>Belgium Jupiler League</td>\n",
       "      <td>2008/2009</td>\n",
       "      <td>2008-08-17 00:00:00</td>\n",
       "      <td>KRC Genk</td>\n",
       "      <td>Beerschot AC</td>\n",
       "      <td>1</td>\n",
       "      <td>1</td>\n",
       "      <td>492473</td>\n",
       "      <td>2</td>\n",
       "    </tr>\n",
       "  </tbody>\n",
       "</table>\n",
       "</div>"
      ],
      "text/plain": [
       "  Country_name             League_name     Season           Match_date  \\\n",
       "0      Belgium  Belgium Jupiler League  2008/2009  2008-08-17 00:00:00   \n",
       "\n",
       "  Home_team_name Away_team_name  home_team_goal  away_team_goal  match_id  \\\n",
       "0       KRC Genk   Beerschot AC               1               1    492473   \n",
       "\n",
       "   Total_goals  \n",
       "0            2  "
      ]
     },
     "execution_count": 14,
     "metadata": {},
     "output_type": "execute_result"
    }
   ],
   "source": [
    "#Lets Check for Changes\n",
    "match_data.head(1)"
   ]
  },
  {
   "cell_type": "markdown",
   "metadata": {},
   "source": [
    "Now let's Check for missing data in dataset <code>match_data</code>"
   ]
  },
  {
   "cell_type": "code",
   "execution_count": 15,
   "metadata": {},
   "outputs": [
    {
     "data": {
      "text/plain": [
       "Country_name      0\n",
       "League_name       0\n",
       "Season            0\n",
       "Match_date        0\n",
       "Home_team_name    0\n",
       "Away_team_name    0\n",
       "home_team_goal    0\n",
       "away_team_goal    0\n",
       "match_id          0\n",
       "Total_goals       0\n",
       "dtype: int64"
      ]
     },
     "execution_count": 15,
     "metadata": {},
     "output_type": "execute_result"
    }
   ],
   "source": [
    "match_data.isnull().sum()"
   ]
  },
  {
   "cell_type": "markdown",
   "metadata": {},
   "source": [
    "The result above shows that we have no missing data in any of the columns in the dataset <code>match_data</code>.\n",
    "Next, let's Check for duplicates"
   ]
  },
  {
   "cell_type": "code",
   "execution_count": 16,
   "metadata": {},
   "outputs": [
    {
     "data": {
      "text/plain": [
       "0"
      ]
     },
     "execution_count": 16,
     "metadata": {},
     "output_type": "execute_result"
    }
   ],
   "source": [
    "match_data.duplicated().sum()"
   ]
  },
  {
   "cell_type": "markdown",
   "metadata": {},
   "source": [
    "From the result above, it shows that we have no duplicated rows in the data <code>match_data</code>. Next, let's Check if our columns has the correct datatypes."
   ]
  },
  {
   "cell_type": "code",
   "execution_count": 17,
   "metadata": {},
   "outputs": [
    {
     "data": {
      "text/plain": [
       "Country_name      object\n",
       "League_name       object\n",
       "Season            object\n",
       "Match_date        object\n",
       "Home_team_name    object\n",
       "Away_team_name    object\n",
       "home_team_goal     int64\n",
       "away_team_goal     int64\n",
       "match_id           int64\n",
       "Total_goals        int64\n",
       "dtype: object"
      ]
     },
     "execution_count": 17,
     "metadata": {},
     "output_type": "execute_result"
    }
   ],
   "source": [
    "match_data.dtypes"
   ]
  },
  {
   "cell_type": "markdown",
   "metadata": {},
   "source": [
    "From the result above, the columns contains the correct datatypes."
   ]
  },
  {
   "cell_type": "markdown",
   "metadata": {},
   "source": [
    "**Next, Lets check for the data player_data also**"
   ]
  },
  {
   "cell_type": "code",
   "execution_count": 18,
   "metadata": {},
   "outputs": [
    {
     "data": {
      "text/plain": [
       "Player_api_id                    0\n",
       "Player_name                      0\n",
       "Player_average_weight            0\n",
       "Player_average_height            0\n",
       "Player_average_overall_rating    0\n",
       "Player_average_potentials        0\n",
       "dtype: int64"
      ]
     },
     "execution_count": 18,
     "metadata": {},
     "output_type": "execute_result"
    }
   ],
   "source": [
    "#Checking for Null values\n",
    "player_data.isnull().sum()"
   ]
  },
  {
   "cell_type": "markdown",
   "metadata": {},
   "source": [
    "From the result above, it shows that we have 0 null values in all the columns in the data <code> player_data</code>. Next, Let's check for duplicates."
   ]
  },
  {
   "cell_type": "code",
   "execution_count": 19,
   "metadata": {},
   "outputs": [
    {
     "data": {
      "text/plain": [
       "0"
      ]
     },
     "execution_count": 19,
     "metadata": {},
     "output_type": "execute_result"
    }
   ],
   "source": [
    "#Checking for duplicated rows.\n",
    "player_data.duplicated().sum()"
   ]
  },
  {
   "cell_type": "markdown",
   "metadata": {},
   "source": [
    "From the result above we have 0 duplicated rows.Now, let's Check if our columns has the correct datatypes."
   ]
  },
  {
   "cell_type": "code",
   "execution_count": 20,
   "metadata": {},
   "outputs": [
    {
     "data": {
      "text/plain": [
       "Player_api_id                      int64\n",
       "Player_name                       object\n",
       "Player_average_weight              int64\n",
       "Player_average_height            float64\n",
       "Player_average_overall_rating    float64\n",
       "Player_average_potentials        float64\n",
       "dtype: object"
      ]
     },
     "execution_count": 20,
     "metadata": {},
     "output_type": "execute_result"
    }
   ],
   "source": [
    "#checking for datatype.\n",
    "player_data.dtypes"
   ]
  },
  {
   "cell_type": "markdown",
   "metadata": {},
   "source": [
    "Looking at our <code>Player_average_weight</code> column we see that its datatype is **int** , so we need to change it to float since weight can be in float."
   ]
  },
  {
   "cell_type": "code",
   "execution_count": 21,
   "metadata": {},
   "outputs": [],
   "source": [
    "#changing column Player_average_weight to float.\n",
    "player_data.Player_average_weight = player_data.Player_average_weight.astype('float')"
   ]
  },
  {
   "cell_type": "code",
   "execution_count": 22,
   "metadata": {},
   "outputs": [
    {
     "data": {
      "text/plain": [
       "dtype('float64')"
      ]
     },
     "execution_count": 22,
     "metadata": {},
     "output_type": "execute_result"
    }
   ],
   "source": [
    "#let's check for the changes.\n",
    "player_data.Player_average_weight.dtype"
   ]
  },
  {
   "cell_type": "markdown",
   "metadata": {
    "collapsed": true
   },
   "source": [
    "**Since we've successfully clean our data, we can now go to the next step.**"
   ]
  },
  {
   "cell_type": "markdown",
   "metadata": {},
   "source": [
    "<a id='eda'></a>\n",
    "## Exploratory Data Analysis\n",
    "\n",
    "\n",
    "\n",
    "### Research Question 1: Which Season was the highest number of goals scored, in which league?"
   ]
  },
  {
   "cell_type": "markdown",
   "metadata": {
    "collapsed": true
   },
   "source": [
    "Let's create our dataframe,by grouping our data <code>match_data</code> using <code>season</code>"
   ]
  },
  {
   "cell_type": "code",
   "execution_count": 23,
   "metadata": {},
   "outputs": [
    {
     "data": {
      "text/plain": [
       "Season\n",
       "2008/2009    8672\n",
       "2009/2010    8632\n",
       "2010/2011    8749\n",
       "2011/2012    8747\n",
       "2012/2013    9039\n",
       "2013/2014    8389\n",
       "2014/2015    8897\n",
       "2015/2016    9162\n",
       "Name: Total_goals, dtype: int64"
      ]
     },
     "execution_count": 23,
     "metadata": {},
     "output_type": "execute_result"
    }
   ],
   "source": [
    "season_goals = match_data.groupby('Season')['Total_goals'].sum()\n",
    "season_goals"
   ]
  },
  {
   "cell_type": "markdown",
   "metadata": {},
   "source": [
    "The above result shows the number of goals scored in each season, we can explore this better by visualizing it."
   ]
  },
  {
   "cell_type": "markdown",
   "metadata": {},
   "source": [
    "**Let's define a function that will help to plot bar chart,so we can always reuse it in this project.**"
   ]
  },
  {
   "cell_type": "code",
   "execution_count": 24,
   "metadata": {},
   "outputs": [],
   "source": [
    "#Creating Function for Barh Plot\n",
    "def Barplot(data_name,plot_title,x_label,y_label):\n",
    "    data_name.plot(kind = 'barh',figsize = (10,6))\n",
    "    plt.title(plot_title)\n",
    "    plt.xlabel(x_label)\n",
    "    plt.ylabel(y_label)\n",
    "    plt.show()\n",
    "    "
   ]
  },
  {
   "cell_type": "markdown",
   "metadata": {},
   "source": [
    "**Note: The Syntax for our Barplot function is Barplot(data_name,plot_title,x_label,y_label)**"
   ]
  },
  {
   "cell_type": "markdown",
   "metadata": {},
   "source": [
    "Now, Let's Create a Barplot for <code>season_goals</code> data"
   ]
  },
  {
   "cell_type": "code",
   "execution_count": 25,
   "metadata": {},
   "outputs": [
    {
     "data": {
      "image/png": "[encoded data removed]",
      "text/plain": [
       "<Figure size 720x432 with 1 Axes>"
      ]
     },
     "metadata": {},
     "output_type": "display_data"
    }
   ],
   "source": [
    "Barplot(season_goals,'Total Numbers of goals scored in each season.','Number of goals','Season')"
   ]
  },
  {
   "cell_type": "markdown",
   "metadata": {},
   "source": [
    "**In which League, we need to further explore our data.**"
   ]
  },
  {
   "cell_type": "markdown",
   "metadata": {},
   "source": [
    "Since we noticed clearly that the season where we have the highest number of goals scored is 2015/2016, we can use this to further explore our data to know which league was the highest number of goals scored."
   ]
  },
  {
   "cell_type": "code",
   "execution_count": 26,
   "metadata": {},
   "outputs": [],
   "source": [
    "#We use the query function to get the total_goals and League name of the season 2015/2016. \n",
    "league_goals = match_data.query('Season == \"2015/2016\"')[['League_name','Total_goals']]"
   ]
  },
  {
   "cell_type": "markdown",
   "metadata": {},
   "source": [
    "Now we need to use the groupby function to get the league names and their corresponding goals for 2015/2016 season"
   ]
  },
  {
   "cell_type": "code",
   "execution_count": 27,
   "metadata": {},
   "outputs": [
    {
     "data": {
      "text/html": [
       "<div>\n",
       "<style scoped>\n",
       "    .dataframe tbody tr th:only-of-type {\n",
       "        vertical-align: middle;\n",
       "    }\n",
       "\n",
       "    .dataframe tbody tr th {\n",
       "        vertical-align: top;\n",
       "    }\n",
       "\n",
       "    .dataframe thead th {\n",
       "        text-align: right;\n",
       "    }\n",
       "</style>\n",
       "<table border=\"1\" class=\"dataframe\">\n",
       "  <thead>\n",
       "    <tr style=\"text-align: right;\">\n",
       "      <th></th>\n",
       "      <th>Total_goals</th>\n",
       "    </tr>\n",
       "    <tr>\n",
       "      <th>League_name</th>\n",
       "      <th></th>\n",
       "    </tr>\n",
       "  </thead>\n",
       "  <tbody>\n",
       "    <tr>\n",
       "      <th>Belgium Jupiler League</th>\n",
       "      <td>694</td>\n",
       "    </tr>\n",
       "    <tr>\n",
       "      <th>England Premier League</th>\n",
       "      <td>1026</td>\n",
       "    </tr>\n",
       "    <tr>\n",
       "      <th>France Ligue 1</th>\n",
       "      <td>960</td>\n",
       "    </tr>\n",
       "    <tr>\n",
       "      <th>Germany 1. Bundesliga</th>\n",
       "      <td>866</td>\n",
       "    </tr>\n",
       "    <tr>\n",
       "      <th>Italy Serie A</th>\n",
       "      <td>979</td>\n",
       "    </tr>\n",
       "    <tr>\n",
       "      <th>Netherlands Eredivisie</th>\n",
       "      <td>912</td>\n",
       "    </tr>\n",
       "    <tr>\n",
       "      <th>Poland Ekstraklasa</th>\n",
       "      <td>635</td>\n",
       "    </tr>\n",
       "    <tr>\n",
       "      <th>Portugal Liga ZON Sagres</th>\n",
       "      <td>831</td>\n",
       "    </tr>\n",
       "    <tr>\n",
       "      <th>Scotland Premier League</th>\n",
       "      <td>650</td>\n",
       "    </tr>\n",
       "    <tr>\n",
       "      <th>Spain LIGA BBVA</th>\n",
       "      <td>1043</td>\n",
       "    </tr>\n",
       "    <tr>\n",
       "      <th>Switzerland Super League</th>\n",
       "      <td>566</td>\n",
       "    </tr>\n",
       "  </tbody>\n",
       "</table>\n",
       "</div>"
      ],
      "text/plain": [
       "                          Total_goals\n",
       "League_name                          \n",
       "Belgium Jupiler League            694\n",
       "England Premier League           1026\n",
       "France Ligue 1                    960\n",
       "Germany 1. Bundesliga             866\n",
       "Italy Serie A                     979\n",
       "Netherlands Eredivisie            912\n",
       "Poland Ekstraklasa                635\n",
       "Portugal Liga ZON Sagres          831\n",
       "Scotland Premier League           650\n",
       "Spain LIGA BBVA                  1043\n",
       "Switzerland Super League          566"
      ]
     },
     "execution_count": 27,
     "metadata": {},
     "output_type": "execute_result"
    }
   ],
   "source": [
    "league_goals.groupby('League_name').sum()"
   ]
  },
  {
   "cell_type": "code",
   "execution_count": 28,
   "metadata": {},
   "outputs": [],
   "source": [
    "#grouping our data by League_name and finding its sum\n",
    "league_goals = league_goals.groupby('League_name').sum()"
   ]
  },
  {
   "cell_type": "markdown",
   "metadata": {},
   "source": [
    "Let's explore with a plot for better understanding. </br>\n",
    "We'll be using Barplot for Visualization here as well, and do not forget the syntax is: ``Barplot(data_name,plot_title,x_label,y_label)``"
   ]
  },
  {
   "cell_type": "code",
   "execution_count": 29,
   "metadata": {},
   "outputs": [
    {
     "data": {
      "image/png": "[encoded data removed]",
      "text/plain": [
       "<Figure size 720x432 with 1 Axes>"
      ]
     },
     "metadata": {},
     "output_type": "display_data"
    }
   ],
   "source": [
    "Barplot(league_goals,'Total Number of goals scored in each League during 2015/2016 season',\n",
    "        'Total Number of goals','League Names')"
   ]
  },
  {
   "cell_type": "markdown",
   "metadata": {},
   "source": [
    "From the result, above we the league with the highest number of goals in 2015/2016 season is **Spain LIGA BBVA**, We can use this info to proceed with our research question."
   ]
  },
  {
   "cell_type": "markdown",
   "metadata": {},
   "source": [
    " ### Research Question 2:  Total number of Recorded matches Per League"
   ]
  },
  {
   "cell_type": "markdown",
   "metadata": {},
   "source": [
    "Let's group our <code>Match_data</code> so that we can have the Count of all recorded games per league"
   ]
  },
  {
   "cell_type": "code",
   "execution_count": 30,
   "metadata": {},
   "outputs": [
    {
     "data": {
      "text/plain": [
       "League_name\n",
       "Belgium Jupiler League      1728\n",
       "England Premier League      3040\n",
       "France Ligue 1              3040\n",
       "Germany 1. Bundesliga       2448\n",
       "Italy Serie A               3017\n",
       "Netherlands Eredivisie      2448\n",
       "Poland Ekstraklasa          1920\n",
       "Portugal Liga ZON Sagres    2052\n",
       "Scotland Premier League     1824\n",
       "Spain LIGA BBVA             3040\n",
       "Switzerland Super League    1422\n",
       "Name: League_name, dtype: int64"
      ]
     },
     "execution_count": 30,
     "metadata": {},
     "output_type": "execute_result"
    }
   ],
   "source": [
    "matches_per_league = match_data.groupby('League_name').League_name.count()\n",
    "matches_per_league"
   ]
  },
  {
   "cell_type": "code",
   "execution_count": 31,
   "metadata": {},
   "outputs": [
    {
     "data": {
      "image/png": "[encoded data removed]",
      "text/plain": [
       "<Figure size 720x432 with 1 Axes>"
      ]
     },
     "metadata": {},
     "output_type": "display_data"
    }
   ],
   "source": [
    "#Visualizing the data using our Barplot(function)\n",
    "Barplot(matches_per_league,'Total Number of recorded matches per League','Number of matches','')"
   ]
  },
  {
   "cell_type": "markdown",
   "metadata": {},
   "source": [
    "### Research Question 3:  Who are the top 10 most rated Players ?"
   ]
  },
  {
   "cell_type": "markdown",
   "metadata": {
    "collapsed": true
   },
   "source": [
    "We neeed to get the Top 10 Overall rated players of all time, to do this we have to sort our <code>player_data</code>"
   ]
  },
  {
   "cell_type": "code",
   "execution_count": 32,
   "metadata": {},
   "outputs": [],
   "source": [
    "top_10= player_data.groupby('Player_name').Player_average_overall_rating.sum()"
   ]
  },
  {
   "cell_type": "code",
   "execution_count": 33,
   "metadata": {},
   "outputs": [],
   "source": [
    "#Converting it into a dataframe.\n",
    "top_10 = pd.DataFrame(top_10)"
   ]
  },
  {
   "cell_type": "code",
   "execution_count": 34,
   "metadata": {},
   "outputs": [],
   "source": [
    "#Sorting the values so that we can get the top 10 rated players.\n",
    "top10 = top_10.sort_values(['Player_average_overall_rating'],ascending = False).head(10)"
   ]
  },
  {
   "cell_type": "code",
   "execution_count": 35,
   "metadata": {},
   "outputs": [
    {
     "data": {
      "text/html": [
       "<div>\n",
       "<style scoped>\n",
       "    .dataframe tbody tr th:only-of-type {\n",
       "        vertical-align: middle;\n",
       "    }\n",
       "\n",
       "    .dataframe tbody tr th {\n",
       "        vertical-align: top;\n",
       "    }\n",
       "\n",
       "    .dataframe thead th {\n",
       "        text-align: right;\n",
       "    }\n",
       "</style>\n",
       "<table border=\"1\" class=\"dataframe\">\n",
       "  <thead>\n",
       "    <tr style=\"text-align: right;\">\n",
       "      <th></th>\n",
       "      <th>Player_average_overall_rating</th>\n",
       "    </tr>\n",
       "    <tr>\n",
       "      <th>Player_name</th>\n",
       "      <th></th>\n",
       "    </tr>\n",
       "  </thead>\n",
       "  <tbody>\n",
       "    <tr>\n",
       "      <th>Danilo</th>\n",
       "      <td>482.72</td>\n",
       "    </tr>\n",
       "    <tr>\n",
       "      <th>Paulinho</th>\n",
       "      <td>409.76</td>\n",
       "    </tr>\n",
       "    <tr>\n",
       "      <th>Ricardo</th>\n",
       "      <td>348.81</td>\n",
       "    </tr>\n",
       "    <tr>\n",
       "      <th>Fernando</th>\n",
       "      <td>301.38</td>\n",
       "    </tr>\n",
       "    <tr>\n",
       "      <th>Adriano</th>\n",
       "      <td>290.66</td>\n",
       "    </tr>\n",
       "    <tr>\n",
       "      <th>Felipe</th>\n",
       "      <td>290.40</td>\n",
       "    </tr>\n",
       "    <tr>\n",
       "      <th>Douglas</th>\n",
       "      <td>283.00</td>\n",
       "    </tr>\n",
       "    <tr>\n",
       "      <th>Roberto</th>\n",
       "      <td>280.39</td>\n",
       "    </tr>\n",
       "    <tr>\n",
       "      <th>Rafael</th>\n",
       "      <td>274.50</td>\n",
       "    </tr>\n",
       "    <tr>\n",
       "      <th>Joao Pedro</th>\n",
       "      <td>258.96</td>\n",
       "    </tr>\n",
       "  </tbody>\n",
       "</table>\n",
       "</div>"
      ],
      "text/plain": [
       "             Player_average_overall_rating\n",
       "Player_name                               \n",
       "Danilo                              482.72\n",
       "Paulinho                            409.76\n",
       "Ricardo                             348.81\n",
       "Fernando                            301.38\n",
       "Adriano                             290.66\n",
       "Felipe                              290.40\n",
       "Douglas                             283.00\n",
       "Roberto                             280.39\n",
       "Rafael                              274.50\n",
       "Joao Pedro                          258.96"
      ]
     },
     "execution_count": 35,
     "metadata": {},
     "output_type": "execute_result"
    }
   ],
   "source": [
    "#printing the result.\n",
    "top10"
   ]
  },
  {
   "cell_type": "markdown",
   "metadata": {},
   "source": [
    "Let create a Barchart usin our ``Barplot()`` function."
   ]
  },
  {
   "cell_type": "code",
   "execution_count": 36,
   "metadata": {},
   "outputs": [
    {
     "data": {
      "image/png": "[encoded data removed]",
      "text/plain": [
       "<Figure size 720x432 with 1 Axes>"
      ]
     },
     "metadata": {},
     "output_type": "display_data"
    }
   ],
   "source": [
    "Barplot(top10,'Top 10 Overall most rated players.','rating','Player Names')"
   ]
  },
  {
   "cell_type": "markdown",
   "metadata": {},
   "source": [
    "### Research Question 4: Is there any Association between Player ratings and their Potentials?"
   ]
  },
  {
   "cell_type": "markdown",
   "metadata": {},
   "source": [
    "Let's Collect the both columns into another dataframe and then we'll visualize it with a scatter plot to see if there's an Association between them."
   ]
  },
  {
   "cell_type": "code",
   "execution_count": 37,
   "metadata": {},
   "outputs": [
    {
     "data": {
      "text/html": [
       "<div>\n",
       "<style scoped>\n",
       "    .dataframe tbody tr th:only-of-type {\n",
       "        vertical-align: middle;\n",
       "    }\n",
       "\n",
       "    .dataframe tbody tr th {\n",
       "        vertical-align: top;\n",
       "    }\n",
       "\n",
       "    .dataframe thead th {\n",
       "        text-align: right;\n",
       "    }\n",
       "</style>\n",
       "<table border=\"1\" class=\"dataframe\">\n",
       "  <thead>\n",
       "    <tr style=\"text-align: right;\">\n",
       "      <th></th>\n",
       "      <th>Player_average_overall_rating</th>\n",
       "      <th>Player_average_potentials</th>\n",
       "    </tr>\n",
       "  </thead>\n",
       "  <tbody>\n",
       "    <tr>\n",
       "      <th>0</th>\n",
       "      <td>60.14</td>\n",
       "      <td>61.14</td>\n",
       "    </tr>\n",
       "    <tr>\n",
       "      <th>1</th>\n",
       "      <td>69.38</td>\n",
       "      <td>70.38</td>\n",
       "    </tr>\n",
       "    <tr>\n",
       "      <th>2</th>\n",
       "      <td>69.29</td>\n",
       "      <td>70.57</td>\n",
       "    </tr>\n",
       "    <tr>\n",
       "      <th>3</th>\n",
       "      <td>71.13</td>\n",
       "      <td>73.53</td>\n",
       "    </tr>\n",
       "    <tr>\n",
       "      <th>4</th>\n",
       "      <td>70.20</td>\n",
       "      <td>75.80</td>\n",
       "    </tr>\n",
       "  </tbody>\n",
       "</table>\n",
       "</div>"
      ],
      "text/plain": [
       "   Player_average_overall_rating  Player_average_potentials\n",
       "0                          60.14                      61.14\n",
       "1                          69.38                      70.38\n",
       "2                          69.29                      70.57\n",
       "3                          71.13                      73.53\n",
       "4                          70.20                      75.80"
      ]
     },
     "execution_count": 37,
     "metadata": {},
     "output_type": "execute_result"
    }
   ],
   "source": [
    "#Creating a new dataframe for Player ratings and Potentials\n",
    "rating_and_potential = pd.concat([player_data.Player_average_overall_rating,player_data.Player_average_potentials],axis = 1)\n",
    "rating_and_potential.head()"
   ]
  },
  {
   "cell_type": "markdown",
   "metadata": {},
   "source": [
    "Next, let's create a Scatter plot to see the relationships between rating and potential"
   ]
  },
  {
   "cell_type": "markdown",
   "metadata": {},
   "source": [
    "Let's define our function for Scatter plot."
   ]
  },
  {
   "cell_type": "code",
   "execution_count": 38,
   "metadata": {},
   "outputs": [],
   "source": [
    "def Scatterplot(data_name,x_data,y_data,plot_title,x_label,y_label):\n",
    "    data_name.plot(kind = 'scatter',x = x_data,y = y_data,figsize = (10,6))\n",
    "    plt.title(plot_title)\n",
    "    plt.xlabel(x_label)\n",
    "    plt.ylabel(y_label)\n",
    "    plt.show()"
   ]
  },
  {
   "cell_type": "markdown",
   "metadata": {},
   "source": [
    "**Note: The syntax for our function is:** ``Scatterplot(data_name,x_data,y_data,plot_title,x_label,y_label)`` </br>\n",
    "\n",
    "Now, let's plot for ``rating_and_potential``\n"
   ]
  },
  {
   "cell_type": "code",
   "execution_count": 39,
   "metadata": {},
   "outputs": [
    {
     "data": {
      "image/png": "[encoded data removed]",
      "text/plain": [
       "<Figure size 720x432 with 1 Axes>"
      ]
     },
     "metadata": {},
     "output_type": "display_data"
    }
   ],
   "source": [
    "Scatterplot(rating_and_potential,'Player_average_overall_rating','Player_average_potentials',\n",
    "           'Association between Player average rating and Player average potentials',\"Player Average Ratings\",\n",
    "           \"Player Average Potentials\")"
   ]
  },
  {
   "cell_type": "markdown",
   "metadata": {},
   "source": [
    "From the Result we have above, we can clearly see that we have a Strong Positive Correlation between Player's Average Rating and their Average Potentials."
   ]
  },
  {
   "cell_type": "markdown",
   "metadata": {},
   "source": [
    "Nevertheless, let's run some statistical test to support our claim."
   ]
  },
  {
   "cell_type": "markdown",
   "metadata": {},
   "source": [
    "In this case, we'll be Using **Pearson Correlation Coefficient** to know if there exist a linear relationship between Player average ratings and their Average Potentials and as well let's setup an hypothesis to know if <code>Player_average_rating</code> and <code>Player_average_potentials</code> are statistically Significant.\n",
    "\n",
    "**H0: There is no significant relationship between Player Average rating and Player Average potentials.** </br>\n",
    "**H1: There is significant relationship between Player Average rating and Player Average potentials.** </br>\n",
    "Using 0.05 level of Significance\n"
   ]
  },
  {
   "cell_type": "code",
   "execution_count": 40,
   "metadata": {},
   "outputs": [
    {
     "name": "stdout",
     "output_type": "stream",
     "text": [
      "The Pearson Correlation coefficient is 0.8094061670204304, and the pvalue is 0.0\n"
     ]
    }
   ],
   "source": [
    "#Finding Pearson correlation coefficient and the p_value\n",
    "pearson_coef,p_value = stats.pearsonr(player_data.Player_average_overall_rating,player_data.Player_average_potentials)\n",
    "print(f'The Pearson Correlation coefficient is {pearson_coef}, and the pvalue is {p_value}')"
   ]
  },
  {
   "cell_type": "markdown",
   "metadata": {},
   "source": [
    "From the result above, our Pearson Correlation coefficient is ~0.8 which shows that there is a strong positive correlation between the player's Average rating and their Average Potentials."
   ]
  },
  {
   "cell_type": "markdown",
   "metadata": {},
   "source": [
    "### Research Question 5: Is there an Association between Player weight and height?"
   ]
  },
  {
   "cell_type": "markdown",
   "metadata": {},
   "source": [
    "Let's concat the columns <code>weight</code> and <code> height </code> into a dataframe"
   ]
  },
  {
   "cell_type": "code",
   "execution_count": 41,
   "metadata": {},
   "outputs": [
    {
     "data": {
      "text/html": [
       "<div>\n",
       "<style scoped>\n",
       "    .dataframe tbody tr th:only-of-type {\n",
       "        vertical-align: middle;\n",
       "    }\n",
       "\n",
       "    .dataframe tbody tr th {\n",
       "        vertical-align: top;\n",
       "    }\n",
       "\n",
       "    .dataframe thead th {\n",
       "        text-align: right;\n",
       "    }\n",
       "</style>\n",
       "<table border=\"1\" class=\"dataframe\">\n",
       "  <thead>\n",
       "    <tr style=\"text-align: right;\">\n",
       "      <th></th>\n",
       "      <th>Player_average_weight</th>\n",
       "      <th>Player_average_height</th>\n",
       "    </tr>\n",
       "  </thead>\n",
       "  <tbody>\n",
       "    <tr>\n",
       "      <th>0</th>\n",
       "      <td>154.0</td>\n",
       "      <td>175.26</td>\n",
       "    </tr>\n",
       "    <tr>\n",
       "      <th>1</th>\n",
       "      <td>174.0</td>\n",
       "      <td>187.96</td>\n",
       "    </tr>\n",
       "    <tr>\n",
       "      <th>2</th>\n",
       "      <td>154.0</td>\n",
       "      <td>180.34</td>\n",
       "    </tr>\n",
       "    <tr>\n",
       "      <th>3</th>\n",
       "      <td>161.0</td>\n",
       "      <td>180.34</td>\n",
       "    </tr>\n",
       "    <tr>\n",
       "      <th>4</th>\n",
       "      <td>163.0</td>\n",
       "      <td>175.26</td>\n",
       "    </tr>\n",
       "  </tbody>\n",
       "</table>\n",
       "</div>"
      ],
      "text/plain": [
       "   Player_average_weight  Player_average_height\n",
       "0                  154.0                 175.26\n",
       "1                  174.0                 187.96\n",
       "2                  154.0                 180.34\n",
       "3                  161.0                 180.34\n",
       "4                  163.0                 175.26"
      ]
     },
     "execution_count": 41,
     "metadata": {},
     "output_type": "execute_result"
    }
   ],
   "source": [
    "weight_and_height = pd.concat([player_data.Player_average_weight,player_data.Player_average_height],axis = 1)\n",
    "#Print the first 5 rows.\n",
    "weight_and_height.head()"
   ]
  },
  {
   "cell_type": "markdown",
   "metadata": {},
   "source": [
    "We'll be Visualizing Using Scatter plot as well here and we'll be using our ``Scatterplot()`` function."
   ]
  },
  {
   "cell_type": "code",
   "execution_count": 42,
   "metadata": {},
   "outputs": [
    {
     "data": {
      "image/png": "[encoded data removed]",
      "text/plain": [
       "<Figure size 720x432 with 1 Axes>"
      ]
     },
     "metadata": {},
     "output_type": "display_data"
    }
   ],
   "source": [
    "Scatterplot(weight_and_height,'Player_average_weight','Player_average_height',\n",
    "            \"Scatter Plot Showing the Average Weight of Player's against the Average Height\",\n",
    "            \"Player's Average weight\",\n",
    "           \"Player's Average height\")"
   ]
  },
  {
   "cell_type": "markdown",
   "metadata": {},
   "source": [
    "From the result above we can see that the trend follows a positive linear pattern which gives us insight that there's is an Association between them but we still need to further our analysis so that we can know the degree of Association between them."
   ]
  },
  {
   "cell_type": "markdown",
   "metadata": {},
   "source": [
    "We'll be using **Pearson Correlation Coefficient** to find our Correlation coefficent value and also run a Statistical hypothesis to back up our result."
   ]
  },
  {
   "cell_type": "markdown",
   "metadata": {},
   "source": [
    "Statistical hypothesis: </br>\n",
    "**H0: There is no significant relationship between Player Average Weight and Average height.** </br>\n",
    "**H1: There is significant relationship between Player Average Weight and Average height.** </br>\n",
    "We'll be Using 0.05 Level of Significance."
   ]
  },
  {
   "cell_type": "code",
   "execution_count": 43,
   "metadata": {},
   "outputs": [
    {
     "name": "stdout",
     "output_type": "stream",
     "text": [
      "The Pearson correlation coefficient value is 0.7666258504097657 and the pvalue is 0.0 \n"
     ]
    }
   ],
   "source": [
    "#Let's find our Correlation Coefficient and pvalue\n",
    "pearsonr2,p_value2 = stats.pearsonr(weight_and_height.Player_average_weight,weight_and_height.Player_average_height)\n",
    "print(f'The Pearson correlation coefficient value is {pearsonr2} and the pvalue is {p_value2} ')"
   ]
  },
  {
   "cell_type": "markdown",
   "metadata": {},
   "source": [
    "Since the Pearson Correlation coefficient value is ~0.8, we therefore say that there is a strong positive correlation between Player Average Weight and Average Heigh."
   ]
  },
  {
   "cell_type": "markdown",
   "metadata": {},
   "source": [
    "<a id='conclusions'></a>\n",
    "## Conclusions\n",
    "\n",
    "### Research Question 1:\n",
    "> From the analysis that we did in our reseach question 1, we find out that the most goals was scored during the 2015/2016 season of the European League, a total number of 9162 goals was scored, we also find out that it was during the Spain LIGA BBVA\n",
    "league that the highest number  goal was scored in that Season, the numbers of goal scored was 1043.\n",
    "\n",
    "### Research Question 2:\n",
    "> According to the analysis we did in research question two, we were able to get the total number of matches that was played in each League from 2008/2009 season to 2015/2016 season, and from the anaysis the highest number of matches was played in English Premier League, France Ligue 1 and Spain LIGA BBVA with a number of 3040 matches each,followed by Italy Serie A league with 3017 number of matches,followed by Germany 1. Bundesliga and Netherlands Eredivisie League with a number of 2448 matches each, followed by Portugal Liga ZON Sagres with 2052 number of matches, followed by Poland Ekstraklasa league with 1920 number of matches, followed by Scotland Premier League with 1824 number of matches, followed by Belgium Jupiler League with 1728 number of matches,and then followed by Switzerland Super League  with 1422 number of matches.\n",
    "\n",
    "\n",
    "### Research Question 3:\n",
    "\n",
    "\n",
    "> According to the analysis for research question 3, we noticed that Danilo is most rated with 482.72 points, followed by Paulinho with 409.76 points, followed by Ricardo with 348.81 points, followed by Fernado with 301.38 points, followed by Adriano with 290.66 points, followed by Felipe with 290.40 points, followed by Douglas with 283 points, followed by Rafael with 274.50 points , then followed by Joao Pedro with 258.96 points.\n",
    "\n",
    "### Research Question 4:\n",
    "\n",
    "> According to the correlation we carried in research question 4, we got Pearson Correlation Coefficient value of ~0.8, this simply implies that there is a strong Positive Linear Correlation between Player Overall average rating and their Potentials.\n",
    "> Also we carried out a Statistical Test to comfirm if they're statistically Significant, with a 0.05 level of Significance, and from our result we got a pvalue of 0.00, these shows that our pvalue is very small, and decision rule states that we're to reject the null hypothesis if the pvalue < level of siginicance(0.05 in this case), Since our pvalue(0.00) is less than 0.05, we therefore reject the null hypothesis and Conclude that the correlation between <code>Player Overall average rating</code> and <code> Player Average Potential </code> are Statistically Significant, and thus there is a Significant relationship between them.\n",
    "\n",
    "### Research Question 5:\n",
    "> According to the Pearson Correlation coefficient value that we got which is ~0.8 , it implies that there is a Strong Positive Linear Association between Player Average Weight and Player Average Height.\n",
    "> We need to Statistically prove this as well, so we carried out a Statistical test with 0.05 level of Significance, and from the resul obtained, our pvalue is 0.00, and since the decision rule states that we are to reject the Null hypothesis if the pvalue is less than the Level of Significance, thus we obtained pvalue of 0.00, and 0.00 < 0.05, we therefore reject the null hypothesis and conclude that the correlation coefficient value (0.766) is statistically significant,and the linear relationship is extremely strong, therefore there is Statistical Relationship between Player Average Weight and Player Average height.\n",
    "\n",
    "### Limitations.\n",
    ">1.  Dealing with several data for one analysis can be so complicated, it really took me alot of time to get through with understanding the Tables and how they're linked together. </br>\n",
    ">2.  There are still alot of analysis that can still be done with the tables,however i had issues with some of the columns in ``Match`` data, columns like ``foulcommit`` , ``cross``, ``corner``,``possession`` etc., the columns seems to contain some values which i think will be difficult to clean.\n",
    "\n"
   ]
  }
 ],
 "metadata": {
  "kernelspec": {
   "display_name": "Python 3 (ipykernel)",
   "language": "python",
   "name": "python3"
  },
  "language_info": {
   "codemirror_mode": {
    "name": "ipython",
    "version": 3
   },
   "file_extension": ".py",
   "mimetype": "text/x-python",
   "name": "python",
   "nbconvert_exporter": "python",
   "pygments_lexer": "ipython3",
   "version": "3.9.7"
  }
 },
 "nbformat": 4,
 "nbformat_minor": 2
}
